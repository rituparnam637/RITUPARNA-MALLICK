{
 "cells": [
  {
   "cell_type": "markdown",
   "id": "proved-payment",
   "metadata": {},
   "source": [
    "## Authentication System\n",
    "#### Feature List\n",
    "- Database\n",
    "    - Local Python Database\n",
    "        - List, Dictionary, Tuple, Set\n",
    "        \n",
    "- SignUp Feature\n",
    "    - Based on username and password\n",
    "        - username should be unique\n",
    "        - multiple usernames can have the same password\n",
    "    - Username\n",
    "        - Username suggestions\n",
    "    - Password\n",
    "        - Check password strength\n",
    "        - Confirm password\n",
    "    - Mobile Number\n",
    "    - Answer of Security Questions\n",
    "    \n",
    "- Forgot Password Feature\n",
    "    - recover password based on Two-Factor Authentication\n",
    "        - using mobile number\n",
    "        - One Time Password (OTP)\n",
    "        - using security questions\n",
    "    - reset password based on any one\n",
    "        - using mobile number and OTP\n",
    "        - using security questions\n",
    "        \n",
    "- SignIn Feature\n",
    "    - Based on (Username or Mobile) and (password and OTP)\n",
    "    - Change password\n",
    "        - using mobile number and OTP\n",
    "        - using security questions"
   ]
  },
  {
   "cell_type": "code",
   "execution_count": null,
   "id": "editorial-healing",
   "metadata": {},
   "outputs": [],
   "source": [
    "dup = {'admin':'Qwerty@123'}"
   ]
  },
  {
   "cell_type": "code",
   "execution_count": 1,
   "id": "decimal-denial",
   "metadata": {},
   "outputs": [],
   "source": [
    "def checkpasswordStrength(password):\n",
    "    return"
   ]
  },
  {
   "cell_type": "code",
   "execution_count": 2,
   "id": "color-virgin",
   "metadata": {},
   "outputs": [],
   "source": [
    "def confirmPassword(password):\n",
    "    return"
   ]
  },
  {
   "cell_type": "code",
   "execution_count": 3,
   "id": "dietary-poverty",
   "metadata": {},
   "outputs": [],
   "source": [
    "def mobileNumber(username):\n",
    "    return"
   ]
  },
  {
   "cell_type": "code",
   "execution_count": 4,
   "id": "broke-bibliography",
   "metadata": {},
   "outputs": [],
   "source": [
    "def securityQuestion(username):\n",
    "    return"
   ]
  },
  {
   "cell_type": "code",
   "execution_count": 5,
   "id": "artistic-terrorism",
   "metadata": {},
   "outputs": [],
   "source": [
    "def usernameSuggestions(name):\n",
    "    return"
   ]
  },
  {
   "cell_type": "code",
   "execution_count": 9,
   "id": "dirty-lodging",
   "metadata": {},
   "outputs": [],
   "source": [
    "def resetPassword():\n",
    "    return"
   ]
  },
  {
   "cell_type": "code",
   "execution_count": 15,
   "id": "static-chest",
   "metadata": {},
   "outputs": [],
   "source": [
    "def collectUserData(username):\n",
    "    collectName(username)\n",
    "    mobileNumber(username)\n",
    "    securityQuestion(username)"
   ]
  },
  {
   "cell_type": "code",
   "execution_count": 16,
   "id": "beautiful-foundation",
   "metadata": {},
   "outputs": [],
   "source": [
    "def signUp():\n",
    "    print('Welcome to SignUp Page...')\n",
    "    while True:\n",
    "        userUp = input('\\nEnter a new Username: ').lower()\n",
    "        if userUp == '0':  return 'Failed'\n",
    "        if userUp not in dup:\n",
    "            passUp = input('Enter a strong password: ')\n",
    "            checkpasswordStrength(passUp)\n",
    "            confirmPassword(passUp)\n",
    "            collectUserData(userUp)\n",
    "            dup[userUp] = passUp     \n",
    "            # dup.update({userUp:passUp})\n",
    "            return 'Successful'\n",
    "        else: print('''Username already exists.Press 0 to Exit\n",
    "                                             Please try again...''')\n",
    "            # usernameSuggestions(name)\n",
    "            \n",
    "# signUp()"
   ]
  },
  {
   "cell_type": "code",
   "execution_count": 8,
   "id": "suffering-singer",
   "metadata": {},
   "outputs": [],
   "source": [
    "# Recursion:\n",
    "#     Calling a function in its own function definition"
   ]
  },
  {
   "cell_type": "code",
   "execution_count": 17,
   "id": "strategic-canon",
   "metadata": {},
   "outputs": [],
   "source": [
    "def signIn():\n",
    "    print('Welcome to Sign In page...')\n",
    "    while True:\n",
    "        userIn = input('Enter your Username: ').lower()\n",
    "        if userIn == '0': return 'Failed'\n",
    "        if userIn in dup:\n",
    "            for i in range(2, -1, -1):\n",
    "                passIn = input(f'{userIn.title()}, Please enter your password: ')\n",
    "                if passIn == dup[userIn]:\n",
    "                    return 'Successful'\n",
    "                else:\n",
    "                    print(\"Password and Username doesn't match. Please try again...\")\n",
    "                    print(f'{i} chances left')\n",
    "            nexts = input('Do you want to reset password: Y/N: ').upper()\n",
    "            if nexts == 'Y': resetPassword()\n",
    "            else           : return 'Failed'\n",
    "\n",
    "        else: print(\"\"\"Username doesn't exist. Press 0 to Exit\n",
    "                     Or Try again with a different username.\"\"\")\n",
    "            \n",
    "# signIn()"
   ]
  },
  {
   "cell_type": "code",
   "execution_count": 18,
   "id": "environmental-magazine",
   "metadata": {},
   "outputs": [],
   "source": [
    "def main():\n",
    "    print('Welcome to Learnbay Authentication Portal')\n",
    "    while True:\n",
    "        mode = input(\"\"\"\n",
    "        Press 1 for SignUp\n",
    "        Press 2 for SignIn\n",
    "        Press 0 to Exit\n",
    "        : \"\"\")\n",
    "        if   mode == '1': print('SignUp', signUp())\n",
    "        elif mode == '2': print('SignIn', signIn())\n",
    "        elif mode == '0':\n",
    "            print('Exit')\n",
    "            break\n",
    "        else            : print('Invalid input...')"
   ]
  },
  {
   "cell_type": "code",
   "execution_count": 13,
   "id": "animal-framing",
   "metadata": {},
   "outputs": [
    {
     "name": "stdout",
     "output_type": "stream",
     "text": [
      "Welcome to Learnbay Authentication Portal\n",
      "\n",
      "        Press 1 for SignUp\n",
      "        Press 2 for SignIn\n",
      "        Press 0 to Exit\n",
      "        : 1\n",
      "Welcome to SignUp Page...\n",
      "\n",
      "Enter a new Username: Aakriti\n",
      "Enter a strong password: qaz123\n",
      "SignUp Successful\n",
      "\n",
      "        Press 1 for SignUp\n",
      "        Press 2 for SignIn\n",
      "        Press 0 to Exit\n",
      "        : 2\n",
      "Welcome to Sign In page...\n",
      "Enter your Username: Ankur\n",
      "Username doesn't exist. Press 0 to Exit\n",
      "                     Or Try again with a different username.\n",
      "Enter your Username: Aakriti\n",
      "Aakriti, Please enter your password: qazwsx\n",
      "Password and Username doesn't match. Please try again...\n",
      "2 chances left\n",
      "Aakriti, Please enter your password: qaz123\n",
      "SignIn Successful\n",
      "\n",
      "        Press 1 for SignUp\n",
      "        Press 2 for SignIn\n",
      "        Press 0 to Exit\n",
      "        : 0\n",
      "Exit\n"
     ]
    }
   ],
   "source": [
    "main()"
   ]
  },
  {
   "cell_type": "code",
   "execution_count": 14,
   "id": "incomplete-maryland",
   "metadata": {},
   "outputs": [],
   "source": [
    "# pip install cryptography\n",
    "# conda install cryptography"
   ]
  }
 ],
 "metadata": {
  "kernelspec": {
   "display_name": "Python 3",
   "language": "python",
   "name": "python3"
  },
  "language_info": {
   "codemirror_mode": {
    "name": "ipython",
    "version": 3
   },
   "file_extension": ".py",
   "mimetype": "text/x-python",
   "name": "python",
   "nbconvert_exporter": "python",
   "pygments_lexer": "ipython3",
   "version": "3.9.1"
  }
 },
 "nbformat": 4,
 "nbformat_minor": 5
}
